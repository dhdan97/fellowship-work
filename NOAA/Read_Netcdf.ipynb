{
 "cells": [
  {
   "cell_type": "code",
   "execution_count": 19,
   "metadata": {},
   "outputs": [],
   "source": [
    "from scipy.io import netcdf\n",
    "import numpy as np\n",
    "import matplotlib\n",
    "import matplotlib.pyplot as plt"
   ]
  },
  {
   "cell_type": "code",
   "execution_count": 21,
   "metadata": {},
   "outputs": [
    {
     "name": "stdout",
     "output_type": "stream",
     "text": [
      "<class 'netCDF4._netCDF4.Dataset'>\n",
      "root group (NETCDF4_CLASSIC data model, file format HDF5):\n",
      "    title: \n",
      "    description: USW00003125\n",
      "    file: data/list_gdcntmax_-114.4674:_:32.8834_40___:__.txt\n",
      "    institution: KNMI Climate Explorer and NOAA/NCEI\n",
      "    source_url: https://catalog.data.gov/dataset/global-historical-climatology-network-daily-ghcn-daily-version-3\n",
      "    source_doi: https://doi.org/10.7289/V5D21VHZ\n",
      "    contact_email: ncdc.ghcnd@noaa.gov\n",
      "    reference: Matthew J. Menne, Imke Durre, Russell S. Vose, Byron E. Gleason, and Tamara G. Houston, 2012: An Overview of the Global Historical Climatology Network-Daily Database. J. Atmos. Oceanic Technol., 29, 897-910. doi:10.1175/JTECH-D-11-00103.1.\n",
      "    license: U.S. Government Work. The non-U.S. data cannot be redistributed within or outside of the U.S. for any commercial activities.\n",
      "    station_code: USW00003125\n",
      "    station_name: YUMA_PROVING_GROUND,_AZ\n",
      "    station_country: United States\n",
      "    latitude:   32.84 degrees_north\n",
      "    longitude: -114.39 degrees_east\n",
      "    elevation:     99.0 m\n",
      "    climexp_url: https://climexp.knmi.nl/gdcntmax.cgi?WMO=USW00003125\n",
      "    timestamp: Mon Feb  4 06:07:54 2019\n",
      "    comment: \\n\n",
      "    history:  2019-03-03 17:19:46 bin/dat2nc data/xlist_gdcntmax_-114.4674:_:32.8834_40___:___max.dat x series near_32.8834N_-114.4674E data/xlist_gdcntmax_-114.4674:_:32.8834_40___:___max.nc\\n 2019-03-03 17:19:08 ./bin/average_ensemble file data/list_gdcntmax_-114.4674:_:32.8834_40___:__.txt gdcntmax max list_gdcntmax_-114.4674:_:32.8834_40___:___max\\n 2019-03-03  5:34:36 dat2nc ./data/gdcntmaxUSW00003125.dat x USW00003125 ./data/gdcntmaxUSW00003125.nc.24402 n 2019-03-03  5:34:35 ./GDCNData/gdcntmax USW00003125 n\n",
      "    Conventions: CF-1.0\n",
      "    dimensions(sizes): time(41273)\n",
      "    variables(dimensions): float32 \u001b[4mtime\u001b[0m(time), float32 \u001b[4mTMAX\u001b[0m(time)\n",
      "    groups: \n",
      "\n"
     ]
    }
   ],
   "source": [
    "import netCDF4\n",
    "import h5py\n",
    "f= netCDF4.Dataset('C:/Users/Danie/NOAA/California/xlist_gdcntmax_-114.4674___32.8834_40_______max.nc','r')\n",
    "print(f)"
   ]
  },
  {
   "cell_type": "code",
   "execution_count": 22,
   "metadata": {},
   "outputs": [
    {
     "name": "stdout",
     "output_type": "stream",
     "text": [
      "time\n",
      "TMAX\n"
     ]
    }
   ],
   "source": [
    "for v in f.variables:\n",
    "    print(v)"
   ]
  },
  {
   "cell_type": "code",
   "execution_count": 23,
   "metadata": {},
   "outputs": [
    {
     "data": {
      "text/plain": [
       "<class 'netCDF4._netCDF4.Variable'>\n",
       "float32 time(time)\n",
       "    units: days since 1907-01-01\n",
       "    standard_name: time\n",
       "    long_name: time\n",
       "    axis: T\n",
       "    calendar: gregorian\n",
       "unlimited dimensions: \n",
       "current shape = (41273,)\n",
       "filling on, default _FillValue of 9.969209968386869e+36 used"
      ]
     },
     "execution_count": 23,
     "metadata": {},
     "output_type": "execute_result"
    }
   ],
   "source": [
    "f.variables['time']"
   ]
  },
  {
   "cell_type": "code",
   "execution_count": 24,
   "metadata": {},
   "outputs": [
    {
     "ename": "ValueError",
     "evalue": "slicing expression exceeds the number of dimensions of the variable",
     "output_type": "error",
     "traceback": [
      "\u001b[1;31m---------------------------------------------------------------------------\u001b[0m",
      "\u001b[1;31mValueError\u001b[0m                                Traceback (most recent call last)",
      "\u001b[1;32m<ipython-input-24-563a65145b8c>\u001b[0m in \u001b[0;36m<module>\u001b[1;34m()\u001b[0m\n\u001b[1;32m----> 1\u001b[1;33m \u001b[0mTMAX\u001b[0m\u001b[1;33m=\u001b[0m\u001b[0mf\u001b[0m\u001b[1;33m.\u001b[0m\u001b[0mvariables\u001b[0m\u001b[1;33m[\u001b[0m\u001b[1;34m'time'\u001b[0m\u001b[1;33m]\u001b[0m\u001b[1;33m[\u001b[0m\u001b[1;33m:\u001b[0m\u001b[1;33m,\u001b[0m\u001b[1;33m:\u001b[0m\u001b[1;33m]\u001b[0m\u001b[1;33m\u001b[0m\u001b[0m\n\u001b[0m\u001b[0;32m      2\u001b[0m \u001b[1;33m\u001b[0m\u001b[0m\n\u001b[0;32m      3\u001b[0m \u001b[0mplt\u001b[0m\u001b[1;33m.\u001b[0m\u001b[0mfigure\u001b[0m\u001b[1;33m(\u001b[0m\u001b[1;33m)\u001b[0m\u001b[1;33m\u001b[0m\u001b[0m\n\u001b[0;32m      4\u001b[0m \u001b[0mplt\u001b[0m\u001b[1;33m.\u001b[0m\u001b[0mpcolor\u001b[0m\u001b[1;33m(\u001b[0m\u001b[0mTMAX\u001b[0m\u001b[1;33m)\u001b[0m\u001b[1;33m\u001b[0m\u001b[0m\n",
      "\u001b[1;32mnetCDF4\\_netCDF4.pyx\u001b[0m in \u001b[0;36mnetCDF4._netCDF4.Variable.__getitem__\u001b[1;34m()\u001b[0m\n",
      "\u001b[1;32m~\\Anaconda3\\lib\\site-packages\\netCDF4\\utils.py\u001b[0m in \u001b[0;36m_StartCountStride\u001b[1;34m(elem, shape, dimensions, grp, datashape, put, no_get_vars)\u001b[0m\n\u001b[0;32m    328\u001b[0m     \u001b[1;31m# make sure there are not too many dimensions in slice.\u001b[0m\u001b[1;33m\u001b[0m\u001b[1;33m\u001b[0m\u001b[0m\n\u001b[0;32m    329\u001b[0m     \u001b[1;32mif\u001b[0m \u001b[0mlen\u001b[0m\u001b[1;33m(\u001b[0m\u001b[0melem\u001b[0m\u001b[1;33m)\u001b[0m \u001b[1;33m>\u001b[0m \u001b[0mnDims\u001b[0m\u001b[1;33m:\u001b[0m\u001b[1;33m\u001b[0m\u001b[0m\n\u001b[1;32m--> 330\u001b[1;33m         \u001b[1;32mraise\u001b[0m \u001b[0mValueError\u001b[0m\u001b[1;33m(\u001b[0m\u001b[1;34m\"slicing expression exceeds the number of dimensions of the variable\"\u001b[0m\u001b[1;33m)\u001b[0m\u001b[1;33m\u001b[0m\u001b[0m\n\u001b[0m\u001b[0;32m    331\u001b[0m \u001b[1;33m\u001b[0m\u001b[0m\n\u001b[0;32m    332\u001b[0m     \u001b[1;31m# Compute the dimensions of the start, count, stride and indices arrays.\u001b[0m\u001b[1;33m\u001b[0m\u001b[1;33m\u001b[0m\u001b[0m\n",
      "\u001b[1;31mValueError\u001b[0m: slicing expression exceeds the number of dimensions of the variable"
     ]
    }
   ],
   "source": [
    "TMAX=f.variables['time'][:,:]\n",
    "\n",
    "plt.figure()\n",
    "plt.pcolor(TMAX)"
   ]
  },
  {
   "cell_type": "code",
   "execution_count": null,
   "metadata": {},
   "outputs": [],
   "source": []
  }
 ],
 "metadata": {
  "kernelspec": {
   "display_name": "Python 3",
   "language": "python",
   "name": "python3"
  },
  "language_info": {
   "codemirror_mode": {
    "name": "ipython",
    "version": 3
   },
   "file_extension": ".py",
   "mimetype": "text/x-python",
   "name": "python",
   "nbconvert_exporter": "python",
   "pygments_lexer": "ipython3",
   "version": "3.7.0"
  }
 },
 "nbformat": 4,
 "nbformat_minor": 2
}
