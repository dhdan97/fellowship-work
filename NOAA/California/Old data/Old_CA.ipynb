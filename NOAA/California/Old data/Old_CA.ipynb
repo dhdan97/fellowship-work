{
 "cells": [
  {
   "cell_type": "code",
   "execution_count": 1,
   "metadata": {},
   "outputs": [],
   "source": [
    "import pandas as pd\n",
    "import numpy as np\n",
    "import seaborn as sns\n",
    "import matplotlib.pyplot as plt\n",
    "%matplotlib inline"
   ]
  },
  {
   "cell_type": "code",
   "execution_count": 3,
   "metadata": {},
   "outputs": [
    {
     "data": {
      "text/html": [
       "<div>\n",
       "<style scoped>\n",
       "    .dataframe tbody tr th:only-of-type {\n",
       "        vertical-align: middle;\n",
       "    }\n",
       "\n",
       "    .dataframe tbody tr th {\n",
       "        vertical-align: top;\n",
       "    }\n",
       "\n",
       "    .dataframe thead th {\n",
       "        text-align: right;\n",
       "    }\n",
       "</style>\n",
       "<table border=\"1\" class=\"dataframe\">\n",
       "  <thead>\n",
       "    <tr style=\"text-align: right;\">\n",
       "      <th></th>\n",
       "      <th>CONTRDATED</th>\n",
       "      <th>TOTALACRES</th>\n",
       "      <th>SEASON</th>\n",
       "      <th>CLASS</th>\n",
       "      <th>Unnamed: 4</th>\n",
       "      <th>Unnamed: 5</th>\n",
       "      <th>Unnamed: 6</th>\n",
       "      <th>Unnamed: 7</th>\n",
       "      <th>Unnamed: 8</th>\n",
       "      <th>Unnamed: 9</th>\n",
       "      <th>Unnamed: 10</th>\n",
       "      <th>Unnamed: 11</th>\n",
       "      <th>Unnamed: 12</th>\n",
       "      <th>Unnamed: 13</th>\n",
       "      <th>Unnamed: 14</th>\n",
       "    </tr>\n",
       "  </thead>\n",
       "  <tbody>\n",
       "    <tr>\n",
       "      <th>0</th>\n",
       "      <td>1/17/1980</td>\n",
       "      <td>1.0</td>\n",
       "      <td>WINTER</td>\n",
       "      <td>B</td>\n",
       "      <td>Row Labels</td>\n",
       "      <td>Count of SEASON</td>\n",
       "      <td>NaN</td>\n",
       "      <td>NaN</td>\n",
       "      <td>NaN</td>\n",
       "      <td>NaN</td>\n",
       "      <td>NaN</td>\n",
       "      <td>NaN</td>\n",
       "      <td>NaN</td>\n",
       "      <td>NaN</td>\n",
       "      <td>NaN</td>\n",
       "    </tr>\n",
       "    <tr>\n",
       "      <th>1</th>\n",
       "      <td>1/24/1980</td>\n",
       "      <td>0.0</td>\n",
       "      <td>WINTER</td>\n",
       "      <td>A</td>\n",
       "      <td>FALL</td>\n",
       "      <td>39</td>\n",
       "      <td>24.53%</td>\n",
       "      <td>NaN</td>\n",
       "      <td>NaN</td>\n",
       "      <td>NaN</td>\n",
       "      <td>NaN</td>\n",
       "      <td>NaN</td>\n",
       "      <td>NaN</td>\n",
       "      <td>NaN</td>\n",
       "      <td>NaN</td>\n",
       "    </tr>\n",
       "    <tr>\n",
       "      <th>2</th>\n",
       "      <td>3/27/1980</td>\n",
       "      <td>5.0</td>\n",
       "      <td>SPRING</td>\n",
       "      <td>B</td>\n",
       "      <td>SPRING</td>\n",
       "      <td>17</td>\n",
       "      <td>10.69%</td>\n",
       "      <td>NaN</td>\n",
       "      <td>NaN</td>\n",
       "      <td>NaN</td>\n",
       "      <td>NaN</td>\n",
       "      <td>NaN</td>\n",
       "      <td>NaN</td>\n",
       "      <td>NaN</td>\n",
       "      <td>NaN</td>\n",
       "    </tr>\n",
       "    <tr>\n",
       "      <th>3</th>\n",
       "      <td>3/28/1980</td>\n",
       "      <td>0.0</td>\n",
       "      <td>SPRING</td>\n",
       "      <td>A</td>\n",
       "      <td>SUMMER</td>\n",
       "      <td>100</td>\n",
       "      <td>62.89%</td>\n",
       "      <td>NaN</td>\n",
       "      <td>NaN</td>\n",
       "      <td>NaN</td>\n",
       "      <td>NaN</td>\n",
       "      <td>NaN</td>\n",
       "      <td>NaN</td>\n",
       "      <td>NaN</td>\n",
       "      <td>NaN</td>\n",
       "    </tr>\n",
       "    <tr>\n",
       "      <th>4</th>\n",
       "      <td>3/31/1980</td>\n",
       "      <td>1.0</td>\n",
       "      <td>SPRING</td>\n",
       "      <td>B</td>\n",
       "      <td>WINTER</td>\n",
       "      <td>3</td>\n",
       "      <td>3.00%</td>\n",
       "      <td>NaN</td>\n",
       "      <td>Season</td>\n",
       "      <td>Frequency</td>\n",
       "      <td>percentage</td>\n",
       "      <td>NaN</td>\n",
       "      <td>NaN</td>\n",
       "      <td>NaN</td>\n",
       "      <td>NaN</td>\n",
       "    </tr>\n",
       "  </tbody>\n",
       "</table>\n",
       "</div>"
      ],
      "text/plain": [
       "  CONTRDATED  TOTALACRES  SEASON CLASS  Unnamed: 4       Unnamed: 5  \\\n",
       "0  1/17/1980         1.0  WINTER     B  Row Labels  Count of SEASON   \n",
       "1  1/24/1980         0.0  WINTER     A        FALL               39   \n",
       "2  3/27/1980         5.0  SPRING     B      SPRING               17   \n",
       "3  3/28/1980         0.0  SPRING     A      SUMMER              100   \n",
       "4  3/31/1980         1.0  SPRING     B      WINTER                3   \n",
       "\n",
       "  Unnamed: 6  Unnamed: 7 Unnamed: 8 Unnamed: 9 Unnamed: 10  Unnamed: 11  \\\n",
       "0        NaN         NaN        NaN        NaN         NaN          NaN   \n",
       "1     24.53%         NaN        NaN        NaN         NaN          NaN   \n",
       "2     10.69%         NaN        NaN        NaN         NaN          NaN   \n",
       "3     62.89%         NaN        NaN        NaN         NaN          NaN   \n",
       "4      3.00%         NaN     Season  Frequency  percentage          NaN   \n",
       "\n",
       "   Unnamed: 12  Unnamed: 13 Unnamed: 14  \n",
       "0          NaN          NaN         NaN  \n",
       "1          NaN          NaN         NaN  \n",
       "2          NaN          NaN         NaN  \n",
       "3          NaN          NaN         NaN  \n",
       "4          NaN          NaN         NaN  "
      ]
     },
     "execution_count": 3,
     "metadata": {},
     "output_type": "execute_result"
    }
   ],
   "source": [
    "cali = pd.read_csv('Cali 1980.csv')\n",
    "cali.head()"
   ]
  },
  {
   "cell_type": "code",
   "execution_count": 9,
   "metadata": {},
   "outputs": [
    {
     "data": {
      "text/html": [
       "<div>\n",
       "<style scoped>\n",
       "    .dataframe tbody tr th:only-of-type {\n",
       "        vertical-align: middle;\n",
       "    }\n",
       "\n",
       "    .dataframe tbody tr th {\n",
       "        vertical-align: top;\n",
       "    }\n",
       "\n",
       "    .dataframe thead th {\n",
       "        text-align: right;\n",
       "    }\n",
       "</style>\n",
       "<table border=\"1\" class=\"dataframe\">\n",
       "  <thead>\n",
       "    <tr style=\"text-align: right;\">\n",
       "      <th></th>\n",
       "      <th>CONTRDATED</th>\n",
       "      <th>TOTALACRES</th>\n",
       "      <th>SEASON</th>\n",
       "      <th>CLASS</th>\n",
       "    </tr>\n",
       "  </thead>\n",
       "  <tbody>\n",
       "    <tr>\n",
       "      <th>0</th>\n",
       "      <td>1/17/1980</td>\n",
       "      <td>1.0</td>\n",
       "      <td>WINTER</td>\n",
       "      <td>B</td>\n",
       "    </tr>\n",
       "    <tr>\n",
       "      <th>1</th>\n",
       "      <td>1/24/1980</td>\n",
       "      <td>0.0</td>\n",
       "      <td>WINTER</td>\n",
       "      <td>A</td>\n",
       "    </tr>\n",
       "    <tr>\n",
       "      <th>2</th>\n",
       "      <td>3/27/1980</td>\n",
       "      <td>5.0</td>\n",
       "      <td>SPRING</td>\n",
       "      <td>B</td>\n",
       "    </tr>\n",
       "    <tr>\n",
       "      <th>3</th>\n",
       "      <td>3/28/1980</td>\n",
       "      <td>0.0</td>\n",
       "      <td>SPRING</td>\n",
       "      <td>A</td>\n",
       "    </tr>\n",
       "    <tr>\n",
       "      <th>4</th>\n",
       "      <td>3/31/1980</td>\n",
       "      <td>1.0</td>\n",
       "      <td>SPRING</td>\n",
       "      <td>B</td>\n",
       "    </tr>\n",
       "  </tbody>\n",
       "</table>\n",
       "</div>"
      ],
      "text/plain": [
       "  CONTRDATED  TOTALACRES  SEASON CLASS\n",
       "0  1/17/1980         1.0  WINTER     B\n",
       "1  1/24/1980         0.0  WINTER     A\n",
       "2  3/27/1980         5.0  SPRING     B\n",
       "3  3/28/1980         0.0  SPRING     A\n",
       "4  3/31/1980         1.0  SPRING     B"
      ]
     },
     "execution_count": 9,
     "metadata": {},
     "output_type": "execute_result"
    }
   ],
   "source": [
    "cali = cali[['CONTRDATED','TOTALACRES','SEASON','CLASS']]\n",
    "cali.head()"
   ]
  },
  {
   "cell_type": "code",
   "execution_count": 10,
   "metadata": {},
   "outputs": [
    {
     "data": {
      "text/plain": [
       "A    89\n",
       "B    20\n",
       "C    15\n",
       "E    13\n",
       "D    11\n",
       "F     8\n",
       "G     3\n",
       "Name: CLASS, dtype: int64"
      ]
     },
     "execution_count": 10,
     "metadata": {},
     "output_type": "execute_result"
    }
   ],
   "source": [
    "cali['CLASS'].value_counts()"
   ]
  },
  {
   "cell_type": "code",
   "execution_count": 11,
   "metadata": {},
   "outputs": [
    {
     "data": {
      "text/plain": [
       "A    0.559748\n",
       "B    0.125786\n",
       "C    0.094340\n",
       "E    0.081761\n",
       "D    0.069182\n",
       "F    0.050314\n",
       "G    0.018868\n",
       "Name: CLASS, dtype: float64"
      ]
     },
     "execution_count": 11,
     "metadata": {},
     "output_type": "execute_result"
    }
   ],
   "source": [
    "cali['CLASS'].value_counts(normalize=True)"
   ]
  },
  {
   "cell_type": "code",
   "execution_count": 24,
   "metadata": {},
   "outputs": [
    {
     "data": {
      "text/plain": [
       "A    24\n",
       "E     5\n",
       "B     4\n",
       "D     2\n",
       "C     2\n",
       "F     1\n",
       "G     1\n",
       "Name: CLASS, dtype: int64"
      ]
     },
     "execution_count": 24,
     "metadata": {},
     "output_type": "execute_result"
    }
   ],
   "source": [
    "cali[cali['SEASON'] == 'FALL']['CLASS'].value_counts()"
   ]
  },
  {
   "cell_type": "code",
   "execution_count": 29,
   "metadata": {},
   "outputs": [
    {
     "data": {
      "text/plain": [
       "34811.1"
      ]
     },
     "execution_count": 29,
     "metadata": {},
     "output_type": "execute_result"
    }
   ],
   "source": [
    "cali[cali['SEASON']=='FALL']['TOTALACRES'].sum()"
   ]
  },
  {
   "cell_type": "code",
   "execution_count": 21,
   "metadata": {},
   "outputs": [
    {
     "name": "stdout",
     "output_type": "stream",
     "text": [
      "[]\n"
     ]
    }
   ],
   "source": [
    "x = np.array([])\n",
    "for i in cali['CLASS'].value_counts(normalize=True):#.unique():\n",
    "    np.insert(x,i,i)\n",
    "print(x)"
   ]
  },
  {
   "cell_type": "code",
   "execution_count": null,
   "metadata": {},
   "outputs": [],
   "source": []
  }
 ],
 "metadata": {
  "kernelspec": {
   "display_name": "Python 3",
   "language": "python",
   "name": "python3"
  },
  "language_info": {
   "codemirror_mode": {
    "name": "ipython",
    "version": 3
   },
   "file_extension": ".py",
   "mimetype": "text/x-python",
   "name": "python",
   "nbconvert_exporter": "python",
   "pygments_lexer": "ipython3",
   "version": "3.7.0"
  }
 },
 "nbformat": 4,
 "nbformat_minor": 2
}
