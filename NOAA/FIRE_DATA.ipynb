{
 "cells": [
  {
   "cell_type": "code",
   "execution_count": 2,
   "metadata": {},
   "outputs": [],
   "source": [
    "# Import Libraries\n",
    "import pandas as pd\n",
    "#import pyproj as ppj\n",
    "import matplotlib.pyplot as plt\n",
    "import math\n",
    "import os\n",
    "import sys\n",
    "import seaborn as sns"
   ]
  },
  {
   "cell_type": "code",
   "execution_count": 3,
   "metadata": {},
   "outputs": [
    {
     "name": "stdout",
     "output_type": "stream",
     "text": [
      "C:\\Users\\Daniel .H\\fellowship-work\\NOAA\\DATA\n"
     ]
    }
   ],
   "source": [
    "# Declare folder\n",
    "data_folder = os.path.abspath(\"DATA\")\n",
    "print(data_folder)\n",
    "output_folder = os.path.abspath(\"output\")\n",
    "if not os.path.exists(output_folder):\n",
    "    os.makedirs(output_folder)"
   ]
  },
  {
   "cell_type": "code",
   "execution_count": 4,
   "metadata": {},
   "outputs": [],
   "source": [
    "#Read CSV file\n",
    "csv_file = \"FireCount CO 1980-2016.csv\"#SELECT STATE CSV FILE HERE\n",
    "csv_file = os.path.join(data_folder, csv_file)\n",
    "df = pd.read_csv(csv_file)\n",
    "df = df[pd.notnull(df['Month'])]"
   ]
  },
  {
   "cell_type": "code",
   "execution_count": 5,
   "metadata": {},
   "outputs": [],
   "source": [
    "csv_file = \"TempCount CO 1980-2016.csv\"#CHANGE STATE HERE TOO\n",
    "csv_file = os.path.join(data_folder, csv_file)\n",
    "df1 = pd.read_csv(csv_file)\n",
    "df1 = df1[pd.notnull(df1['Month'])]"
   ]
  },
  {
   "cell_type": "code",
   "execution_count": 25,
   "metadata": {},
   "outputs": [
    {
     "data": {
      "text/plain": [
       "Text(0.5, 1.0, 'State of California, 1980')"
      ]
     },
     "execution_count": 25,
     "metadata": {},
     "output_type": "execute_result"
    },
    {
     "data": {
      "image/png": "[encoded data removed]",
      "text/plain": [
       "<Figure size 432x288 with 1 Axes>"
      ]
     },
     "metadata": {
      "needs_background": "light"
     },
     "output_type": "display_data"
    }
   ],
   "source": [
    "year='1980'#SELECT YEAR HERE\n",
    "months = ['Jan','Feb','Mar','Apr','May','Jun','Jul','Aug','Sep','Oct','Nov','Dec']\n",
    "values = df[year].tolist()\n",
    "for i in range(12):\n",
    "    values[i]=int(values[i])\n",
    "ax2=plt.subplots()\n",
    "plt.bar(months,values,color='green',alpha=.6,linewidth=1,edgecolor='black')\n",
    "plt.plot(df1[year],color='blue')\n",
    "plt.xlabel('Month')\n",
    "plt.ylabel('Number of Recorded Fires')\n",
    "plt.title('State of California, '+year)"
   ]
  },
  {
   "cell_type": "code",
   "execution_count": null,
   "metadata": {},
   "outputs": [],
   "source": [
    "# THIS WILL GIVE YOU THE TYPE OF VARIABLES YOU HAVE\n",
    "df.info()"
   ]
  },
  {
   "cell_type": "code",
   "execution_count": 96,
   "metadata": {},
   "outputs": [
    {
     "data": {
      "text/plain": [
       "0.0686226667570195"
      ]
     },
     "execution_count": 96,
     "metadata": {},
     "output_type": "execute_result"
    }
   ],
   "source": [
    "# THIS COMMAND CHECKS FOR THE CORRELATON BETWEEN TWO VARIABLES\n",
    "df['TotalAcres'].corr(df['Temp'])"
   ]
  },
  {
   "cell_type": "code",
   "execution_count": 8,
   "metadata": {},
   "outputs": [
    {
     "ename": "KeyError",
     "evalue": "'Slope'",
     "output_type": "error",
     "traceback": [
      "\u001b[1;31m---------------------------------------------------------------------------\u001b[0m",
      "\u001b[1;31mKeyError\u001b[0m                                  Traceback (most recent call last)",
      "\u001b[1;32m~\\Anaconda3\\lib\\site-packages\\pandas\\core\\indexes\\base.py\u001b[0m in \u001b[0;36mget_loc\u001b[1;34m(self, key, method, tolerance)\u001b[0m\n\u001b[0;32m   2655\u001b[0m             \u001b[1;32mtry\u001b[0m\u001b[1;33m:\u001b[0m\u001b[1;33m\u001b[0m\u001b[0m\n\u001b[1;32m-> 2656\u001b[1;33m                 \u001b[1;32mreturn\u001b[0m \u001b[0mself\u001b[0m\u001b[1;33m.\u001b[0m\u001b[0m_engine\u001b[0m\u001b[1;33m.\u001b[0m\u001b[0mget_loc\u001b[0m\u001b[1;33m(\u001b[0m\u001b[0mkey\u001b[0m\u001b[1;33m)\u001b[0m\u001b[1;33m\u001b[0m\u001b[0m\n\u001b[0m\u001b[0;32m   2657\u001b[0m             \u001b[1;32mexcept\u001b[0m \u001b[0mKeyError\u001b[0m\u001b[1;33m:\u001b[0m\u001b[1;33m\u001b[0m\u001b[0m\n",
      "\u001b[1;32mpandas\\_libs\\index.pyx\u001b[0m in \u001b[0;36mpandas._libs.index.IndexEngine.get_loc\u001b[1;34m()\u001b[0m\n",
      "\u001b[1;32mpandas\\_libs\\index.pyx\u001b[0m in \u001b[0;36mpandas._libs.index.IndexEngine.get_loc\u001b[1;34m()\u001b[0m\n",
      "\u001b[1;32mpandas\\_libs\\hashtable_class_helper.pxi\u001b[0m in \u001b[0;36mpandas._libs.hashtable.PyObjectHashTable.get_item\u001b[1;34m()\u001b[0m\n",
      "\u001b[1;32mpandas\\_libs\\hashtable_class_helper.pxi\u001b[0m in \u001b[0;36mpandas._libs.hashtable.PyObjectHashTable.get_item\u001b[1;34m()\u001b[0m\n",
      "\u001b[1;31mKeyError\u001b[0m: 'Slope'",
      "\nDuring handling of the above exception, another exception occurred:\n",
      "\u001b[1;31mKeyError\u001b[0m                                  Traceback (most recent call last)",
      "\u001b[1;32m<ipython-input-8-bc1ba44fc28a>\u001b[0m in \u001b[0;36m<module>\u001b[1;34m()\u001b[0m\n\u001b[0;32m      1\u001b[0m \u001b[1;31m#PLOT TWO GRAPHS IN ONE - USE THIS FOR PLOTTING TEMP VS NUMBER OF FIRES EACH YR\u001b[0m\u001b[1;33m\u001b[0m\u001b[1;33m\u001b[0m\u001b[0m\n\u001b[0;32m      2\u001b[0m \u001b[1;33m\u001b[0m\u001b[0m\n\u001b[1;32m----> 3\u001b[1;33m \u001b[0max\u001b[0m \u001b[1;33m=\u001b[0m \u001b[0mdf\u001b[0m\u001b[1;33m[\u001b[0m\u001b[1;34m\"Slope\"\u001b[0m\u001b[1;33m]\u001b[0m\u001b[1;33m.\u001b[0m\u001b[0mhist\u001b[0m\u001b[1;33m(\u001b[0m\u001b[0mbins\u001b[0m\u001b[1;33m=\u001b[0m\u001b[1;36m15\u001b[0m\u001b[1;33m,\u001b[0m \u001b[0mdensity\u001b[0m\u001b[1;33m=\u001b[0m\u001b[1;32mTrue\u001b[0m\u001b[1;33m,\u001b[0m \u001b[0mstacked\u001b[0m\u001b[1;33m=\u001b[0m\u001b[1;32mTrue\u001b[0m\u001b[1;33m,\u001b[0m \u001b[0mcolor\u001b[0m\u001b[1;33m=\u001b[0m\u001b[1;34m'teal'\u001b[0m\u001b[1;33m,\u001b[0m \u001b[0malpha\u001b[0m\u001b[1;33m=\u001b[0m\u001b[1;36m0.6\u001b[0m\u001b[1;33m)\u001b[0m\u001b[1;33m\u001b[0m\u001b[0m\n\u001b[0m\u001b[0;32m      4\u001b[0m \u001b[0mdf\u001b[0m\u001b[1;33m[\u001b[0m\u001b[1;34m\"Temp\"\u001b[0m\u001b[1;33m]\u001b[0m\u001b[1;33m.\u001b[0m\u001b[0mplot\u001b[0m\u001b[1;33m(\u001b[0m\u001b[0mkind\u001b[0m\u001b[1;33m=\u001b[0m\u001b[1;34m'density'\u001b[0m\u001b[1;33m,\u001b[0m \u001b[0mcolor\u001b[0m\u001b[1;33m=\u001b[0m\u001b[1;34m'teal'\u001b[0m\u001b[1;33m)\u001b[0m\u001b[1;33m\u001b[0m\u001b[0m\n\u001b[0;32m      5\u001b[0m \u001b[0max\u001b[0m\u001b[1;33m.\u001b[0m\u001b[0mset\u001b[0m\u001b[1;33m(\u001b[0m\u001b[0mxlabel\u001b[0m\u001b[1;33m=\u001b[0m\u001b[1;34m'SLOPE'\u001b[0m\u001b[1;33m)\u001b[0m\u001b[1;33m\u001b[0m\u001b[0m\n",
      "\u001b[1;32m~\\Anaconda3\\lib\\site-packages\\pandas\\core\\frame.py\u001b[0m in \u001b[0;36m__getitem__\u001b[1;34m(self, key)\u001b[0m\n\u001b[0;32m   2925\u001b[0m             \u001b[1;32mif\u001b[0m \u001b[0mself\u001b[0m\u001b[1;33m.\u001b[0m\u001b[0mcolumns\u001b[0m\u001b[1;33m.\u001b[0m\u001b[0mnlevels\u001b[0m \u001b[1;33m>\u001b[0m \u001b[1;36m1\u001b[0m\u001b[1;33m:\u001b[0m\u001b[1;33m\u001b[0m\u001b[0m\n\u001b[0;32m   2926\u001b[0m                 \u001b[1;32mreturn\u001b[0m \u001b[0mself\u001b[0m\u001b[1;33m.\u001b[0m\u001b[0m_getitem_multilevel\u001b[0m\u001b[1;33m(\u001b[0m\u001b[0mkey\u001b[0m\u001b[1;33m)\u001b[0m\u001b[1;33m\u001b[0m\u001b[0m\n\u001b[1;32m-> 2927\u001b[1;33m             \u001b[0mindexer\u001b[0m \u001b[1;33m=\u001b[0m \u001b[0mself\u001b[0m\u001b[1;33m.\u001b[0m\u001b[0mcolumns\u001b[0m\u001b[1;33m.\u001b[0m\u001b[0mget_loc\u001b[0m\u001b[1;33m(\u001b[0m\u001b[0mkey\u001b[0m\u001b[1;33m)\u001b[0m\u001b[1;33m\u001b[0m\u001b[0m\n\u001b[0m\u001b[0;32m   2928\u001b[0m             \u001b[1;32mif\u001b[0m \u001b[0mis_integer\u001b[0m\u001b[1;33m(\u001b[0m\u001b[0mindexer\u001b[0m\u001b[1;33m)\u001b[0m\u001b[1;33m:\u001b[0m\u001b[1;33m\u001b[0m\u001b[0m\n\u001b[0;32m   2929\u001b[0m                 \u001b[0mindexer\u001b[0m \u001b[1;33m=\u001b[0m \u001b[1;33m[\u001b[0m\u001b[0mindexer\u001b[0m\u001b[1;33m]\u001b[0m\u001b[1;33m\u001b[0m\u001b[0m\n",
      "\u001b[1;32m~\\Anaconda3\\lib\\site-packages\\pandas\\core\\indexes\\base.py\u001b[0m in \u001b[0;36mget_loc\u001b[1;34m(self, key, method, tolerance)\u001b[0m\n\u001b[0;32m   2656\u001b[0m                 \u001b[1;32mreturn\u001b[0m \u001b[0mself\u001b[0m\u001b[1;33m.\u001b[0m\u001b[0m_engine\u001b[0m\u001b[1;33m.\u001b[0m\u001b[0mget_loc\u001b[0m\u001b[1;33m(\u001b[0m\u001b[0mkey\u001b[0m\u001b[1;33m)\u001b[0m\u001b[1;33m\u001b[0m\u001b[0m\n\u001b[0;32m   2657\u001b[0m             \u001b[1;32mexcept\u001b[0m \u001b[0mKeyError\u001b[0m\u001b[1;33m:\u001b[0m\u001b[1;33m\u001b[0m\u001b[0m\n\u001b[1;32m-> 2658\u001b[1;33m                 \u001b[1;32mreturn\u001b[0m \u001b[0mself\u001b[0m\u001b[1;33m.\u001b[0m\u001b[0m_engine\u001b[0m\u001b[1;33m.\u001b[0m\u001b[0mget_loc\u001b[0m\u001b[1;33m(\u001b[0m\u001b[0mself\u001b[0m\u001b[1;33m.\u001b[0m\u001b[0m_maybe_cast_indexer\u001b[0m\u001b[1;33m(\u001b[0m\u001b[0mkey\u001b[0m\u001b[1;33m)\u001b[0m\u001b[1;33m)\u001b[0m\u001b[1;33m\u001b[0m\u001b[0m\n\u001b[0m\u001b[0;32m   2659\u001b[0m         \u001b[0mindexer\u001b[0m \u001b[1;33m=\u001b[0m \u001b[0mself\u001b[0m\u001b[1;33m.\u001b[0m\u001b[0mget_indexer\u001b[0m\u001b[1;33m(\u001b[0m\u001b[1;33m[\u001b[0m\u001b[0mkey\u001b[0m\u001b[1;33m]\u001b[0m\u001b[1;33m,\u001b[0m \u001b[0mmethod\u001b[0m\u001b[1;33m=\u001b[0m\u001b[0mmethod\u001b[0m\u001b[1;33m,\u001b[0m \u001b[0mtolerance\u001b[0m\u001b[1;33m=\u001b[0m\u001b[0mtolerance\u001b[0m\u001b[1;33m)\u001b[0m\u001b[1;33m\u001b[0m\u001b[0m\n\u001b[0;32m   2660\u001b[0m         \u001b[1;32mif\u001b[0m \u001b[0mindexer\u001b[0m\u001b[1;33m.\u001b[0m\u001b[0mndim\u001b[0m \u001b[1;33m>\u001b[0m \u001b[1;36m1\u001b[0m \u001b[1;32mor\u001b[0m \u001b[0mindexer\u001b[0m\u001b[1;33m.\u001b[0m\u001b[0msize\u001b[0m \u001b[1;33m>\u001b[0m \u001b[1;36m1\u001b[0m\u001b[1;33m:\u001b[0m\u001b[1;33m\u001b[0m\u001b[0m\n",
      "\u001b[1;32mpandas\\_libs\\index.pyx\u001b[0m in \u001b[0;36mpandas._libs.index.IndexEngine.get_loc\u001b[1;34m()\u001b[0m\n",
      "\u001b[1;32mpandas\\_libs\\index.pyx\u001b[0m in \u001b[0;36mpandas._libs.index.IndexEngine.get_loc\u001b[1;34m()\u001b[0m\n",
      "\u001b[1;32mpandas\\_libs\\hashtable_class_helper.pxi\u001b[0m in \u001b[0;36mpandas._libs.hashtable.PyObjectHashTable.get_item\u001b[1;34m()\u001b[0m\n",
      "\u001b[1;32mpandas\\_libs\\hashtable_class_helper.pxi\u001b[0m in \u001b[0;36mpandas._libs.hashtable.PyObjectHashTable.get_item\u001b[1;34m()\u001b[0m\n",
      "\u001b[1;31mKeyError\u001b[0m: 'Slope'"
     ]
    }
   ],
   "source": [
    "#PLOT TWO GRAPHS IN ONE - USE THIS FOR PLOTTING TEMP VS NUMBER OF FIRES EACH YR\n",
    "\n",
    "ax = df[\"Slope\"].hist(bins=15, density=True, stacked=True, color='teal', alpha=0.6)\n",
    "df[\"Temp\"].plot(kind='density', color='teal')\n",
    "ax.set(xlabel='SLOPE')\n",
    "plt.xlim(-10,85)\n",
    "plt.show()"
   ]
  },
  {
   "cell_type": "code",
   "execution_count": null,
   "metadata": {},
   "outputs": [],
   "source": []
  },
  {
   "cell_type": "code",
   "execution_count": 14,
   "metadata": {},
   "outputs": [
    {
     "data": {
      "text/html": [
       "<style  type=\"text/css\" >\n",
       "    #T_788e1d54_3c7e_11e9_9ae3_0c4de9cc5da6row0_col0 {\n",
       "            background-color:  #b40426;\n",
       "        }    #T_788e1d54_3c7e_11e9_9ae3_0c4de9cc5da6row0_col1 {\n",
       "            background-color:  #3b4cc0;\n",
       "        }    #T_788e1d54_3c7e_11e9_9ae3_0c4de9cc5da6row0_col2 {\n",
       "            background-color:  #6f92f3;\n",
       "        }    #T_788e1d54_3c7e_11e9_9ae3_0c4de9cc5da6row0_col3 {\n",
       "            background-color:  #779af7;\n",
       "        }    #T_788e1d54_3c7e_11e9_9ae3_0c4de9cc5da6row0_col4 {\n",
       "            background-color:  #3c4ec2;\n",
       "        }    #T_788e1d54_3c7e_11e9_9ae3_0c4de9cc5da6row1_col0 {\n",
       "            background-color:  #4c66d6;\n",
       "        }    #T_788e1d54_3c7e_11e9_9ae3_0c4de9cc5da6row1_col1 {\n",
       "            background-color:  #b40426;\n",
       "        }    #T_788e1d54_3c7e_11e9_9ae3_0c4de9cc5da6row1_col2 {\n",
       "            background-color:  #7ea1fa;\n",
       "        }    #T_788e1d54_3c7e_11e9_9ae3_0c4de9cc5da6row1_col3 {\n",
       "            background-color:  #7597f6;\n",
       "        }    #T_788e1d54_3c7e_11e9_9ae3_0c4de9cc5da6row1_col4 {\n",
       "            background-color:  #3b4cc0;\n",
       "        }    #T_788e1d54_3c7e_11e9_9ae3_0c4de9cc5da6row2_col0 {\n",
       "            background-color:  #516ddb;\n",
       "        }    #T_788e1d54_3c7e_11e9_9ae3_0c4de9cc5da6row2_col1 {\n",
       "            background-color:  #4c66d6;\n",
       "        }    #T_788e1d54_3c7e_11e9_9ae3_0c4de9cc5da6row2_col2 {\n",
       "            background-color:  #b40426;\n",
       "        }    #T_788e1d54_3c7e_11e9_9ae3_0c4de9cc5da6row2_col3 {\n",
       "            background-color:  #9ebeff;\n",
       "        }    #T_788e1d54_3c7e_11e9_9ae3_0c4de9cc5da6row2_col4 {\n",
       "            background-color:  #3b4cc0;\n",
       "        }    #T_788e1d54_3c7e_11e9_9ae3_0c4de9cc5da6row3_col0 {\n",
       "            background-color:  #4f69d9;\n",
       "        }    #T_788e1d54_3c7e_11e9_9ae3_0c4de9cc5da6row3_col1 {\n",
       "            background-color:  #3b4cc0;\n",
       "        }    #T_788e1d54_3c7e_11e9_9ae3_0c4de9cc5da6row3_col2 {\n",
       "            background-color:  #96b7ff;\n",
       "        }    #T_788e1d54_3c7e_11e9_9ae3_0c4de9cc5da6row3_col3 {\n",
       "            background-color:  #b40426;\n",
       "        }    #T_788e1d54_3c7e_11e9_9ae3_0c4de9cc5da6row3_col4 {\n",
       "            background-color:  #465ecf;\n",
       "        }    #T_788e1d54_3c7e_11e9_9ae3_0c4de9cc5da6row4_col0 {\n",
       "            background-color:  #4f69d9;\n",
       "        }    #T_788e1d54_3c7e_11e9_9ae3_0c4de9cc5da6row4_col1 {\n",
       "            background-color:  #3b4cc0;\n",
       "        }    #T_788e1d54_3c7e_11e9_9ae3_0c4de9cc5da6row4_col2 {\n",
       "            background-color:  #6b8df0;\n",
       "        }    #T_788e1d54_3c7e_11e9_9ae3_0c4de9cc5da6row4_col3 {\n",
       "            background-color:  #81a4fb;\n",
       "        }    #T_788e1d54_3c7e_11e9_9ae3_0c4de9cc5da6row4_col4 {\n",
       "            background-color:  #b40426;\n",
       "        }</style>  \n",
       "<table id=\"T_788e1d54_3c7e_11e9_9ae3_0c4de9cc5da6\" > \n",
       "<thead>    <tr> \n",
       "        <th class=\"blank level0\" ></th> \n",
       "        <th class=\"col_heading level0 col0\" >Aspect</th> \n",
       "        <th class=\"col_heading level0 col1\" >Slope</th> \n",
       "        <th class=\"col_heading level0 col2\" >Elevation</th> \n",
       "        <th class=\"col_heading level0 col3\" >Temp</th> \n",
       "        <th class=\"col_heading level0 col4\" >ClassValue</th> \n",
       "    </tr></thead> \n",
       "<tbody>    <tr> \n",
       "        <th id=\"T_788e1d54_3c7e_11e9_9ae3_0c4de9cc5da6level0_row0\" class=\"row_heading level0 row0\" >Aspect</th> \n",
       "        <td id=\"T_788e1d54_3c7e_11e9_9ae3_0c4de9cc5da6row0_col0\" class=\"data row0 col0\" >1.0</td> \n",
       "        <td id=\"T_788e1d54_3c7e_11e9_9ae3_0c4de9cc5da6row0_col1\" class=\"data row0 col1\" >-0.16</td> \n",
       "        <td id=\"T_788e1d54_3c7e_11e9_9ae3_0c4de9cc5da6row0_col2\" class=\"data row0 col2\" >0.032</td> \n",
       "        <td id=\"T_788e1d54_3c7e_11e9_9ae3_0c4de9cc5da6row0_col3\" class=\"data row0 col3\" >0.058</td> \n",
       "        <td id=\"T_788e1d54_3c7e_11e9_9ae3_0c4de9cc5da6row0_col4\" class=\"data row0 col4\" >-0.15</td> \n",
       "    </tr>    <tr> \n",
       "        <th id=\"T_788e1d54_3c7e_11e9_9ae3_0c4de9cc5da6level0_row1\" class=\"row_heading level0 row1\" >Slope</th> \n",
       "        <td id=\"T_788e1d54_3c7e_11e9_9ae3_0c4de9cc5da6row1_col0\" class=\"data row1 col0\" >-0.16</td> \n",
       "        <td id=\"T_788e1d54_3c7e_11e9_9ae3_0c4de9cc5da6row1_col1\" class=\"data row1 col1\" >1.0</td> \n",
       "        <td id=\"T_788e1d54_3c7e_11e9_9ae3_0c4de9cc5da6row1_col2\" class=\"data row1 col2\" >0.018</td> \n",
       "        <td id=\"T_788e1d54_3c7e_11e9_9ae3_0c4de9cc5da6row1_col3\" class=\"data row1 col3\" >-0.012</td> \n",
       "        <td id=\"T_788e1d54_3c7e_11e9_9ae3_0c4de9cc5da6row1_col4\" class=\"data row1 col4\" >-0.24</td> \n",
       "    </tr>    <tr> \n",
       "        <th id=\"T_788e1d54_3c7e_11e9_9ae3_0c4de9cc5da6level0_row2\" class=\"row_heading level0 row2\" >Elevation</th> \n",
       "        <td id=\"T_788e1d54_3c7e_11e9_9ae3_0c4de9cc5da6row2_col0\" class=\"data row2 col0\" >0.032</td> \n",
       "        <td id=\"T_788e1d54_3c7e_11e9_9ae3_0c4de9cc5da6row2_col1\" class=\"data row2 col1\" >0.018</td> \n",
       "        <td id=\"T_788e1d54_3c7e_11e9_9ae3_0c4de9cc5da6row2_col2\" class=\"data row2 col2\" >1.0</td> \n",
       "        <td id=\"T_788e1d54_3c7e_11e9_9ae3_0c4de9cc5da6row2_col3\" class=\"data row2 col3\" >0.27</td> \n",
       "        <td id=\"T_788e1d54_3c7e_11e9_9ae3_0c4de9cc5da6row2_col4\" class=\"data row2 col4\" >-0.047</td> \n",
       "    </tr>    <tr> \n",
       "        <th id=\"T_788e1d54_3c7e_11e9_9ae3_0c4de9cc5da6level0_row3\" class=\"row_heading level0 row3\" >Temp</th> \n",
       "        <td id=\"T_788e1d54_3c7e_11e9_9ae3_0c4de9cc5da6row3_col0\" class=\"data row3 col0\" >0.058</td> \n",
       "        <td id=\"T_788e1d54_3c7e_11e9_9ae3_0c4de9cc5da6row3_col1\" class=\"data row3 col1\" >-0.012</td> \n",
       "        <td id=\"T_788e1d54_3c7e_11e9_9ae3_0c4de9cc5da6row3_col2\" class=\"data row3 col2\" >0.27</td> \n",
       "        <td id=\"T_788e1d54_3c7e_11e9_9ae3_0c4de9cc5da6row3_col3\" class=\"data row3 col3\" >1.0</td> \n",
       "        <td id=\"T_788e1d54_3c7e_11e9_9ae3_0c4de9cc5da6row3_col4\" class=\"data row3 col4\" >0.028</td> \n",
       "    </tr>    <tr> \n",
       "        <th id=\"T_788e1d54_3c7e_11e9_9ae3_0c4de9cc5da6level0_row4\" class=\"row_heading level0 row4\" >ClassValue</th> \n",
       "        <td id=\"T_788e1d54_3c7e_11e9_9ae3_0c4de9cc5da6row4_col0\" class=\"data row4 col0\" >-0.15</td> \n",
       "        <td id=\"T_788e1d54_3c7e_11e9_9ae3_0c4de9cc5da6row4_col1\" class=\"data row4 col1\" >-0.24</td> \n",
       "        <td id=\"T_788e1d54_3c7e_11e9_9ae3_0c4de9cc5da6row4_col2\" class=\"data row4 col2\" >-0.047</td> \n",
       "        <td id=\"T_788e1d54_3c7e_11e9_9ae3_0c4de9cc5da6row4_col3\" class=\"data row4 col3\" >0.028</td> \n",
       "        <td id=\"T_788e1d54_3c7e_11e9_9ae3_0c4de9cc5da6row4_col4\" class=\"data row4 col4\" >1.0</td> \n",
       "    </tr></tbody> \n",
       "</table> "
      ],
      "text/plain": [
       "<pandas.io.formats.style.Styler at 0x121dd9748>"
      ]
     },
     "execution_count": 14,
     "metadata": {},
     "output_type": "execute_result"
    }
   ],
   "source": [
    "#THIS \"DROPS\" COLUMNS YOU MAY NOT NEED FOR ANALYSIS SO ONLY THE VARIABLES YOU SEE BELOW PLOT\n",
    "\n",
    "df.drop(['code','month','day','year','Latitude','Longitude','Fire_Name','ClassRaster','ClassName'],axis=1).corr(method ='spearman').style.format(\"{:.2}\").background_gradient(cmap=plt.get_cmap('coolwarm'), axis=1)\n"
   ]
  },
  {
   "cell_type": "markdown",
   "metadata": {},
   "source": [
    "# plot correlated values\n",
    "plt.rcParams['figure.figsize'] = [16, 6]\n",
    "\n",
    "fig, ax = plt.subplots(nrows=1, ncols=3)\n",
    "\n",
    "ax=ax.flatten()\n",
    "\n",
    "cols = ['Aspect','Slope','Elevation','Temp','ClassValue']\n",
    "colors=['#415952', '#f35134', '#243AB5', '#243AB5']"
   ]
  },
  {
   "cell_type": "code",
   "execution_count": 15,
   "metadata": {},
   "outputs": [
    {
     "data": {
      "image/png": "[encoded data removed]",
      "text/plain": [
       "<Figure size 1152x432 with 3 Axes>"
      ]
     },
     "metadata": {
      "needs_background": "light"
     },
     "output_type": "display_data"
    }
   ],
   "source": [
    "# THIS PLOT WILL GIVE YOU 3 TYPES OF CORRELATIONS - STUDY WHAT EACH ONE MEANS\n",
    "\n",
    "plt.rcParams['figure.figsize'] = [16, 6]\n",
    "\n",
    "fig, ax = plt.subplots(nrows=1, ncols=3)\n",
    "\n",
    "ax=ax.flatten()\n",
    "\n",
    "cols = ['Aspect','Slope','Elevation','Temp','ClassValue']\n",
    "colors=['#415952', '#f35134', '#243AB5', '#243AB5']\n",
    "j=0\n",
    "\n",
    "for i in ax:\n",
    "    if j==0:\n",
    "        i.set_ylabel('Slope')\n",
    "    i.scatter(df[cols[j]], df['Slope'],  alpha=0.5, color=colors[j])\n",
    "    i.set_xlabel(cols[j])\n",
    "    i.set_title('Pearson: %s'%df.corr().loc[cols[j]]['ClassValue'].round(2)+' Spearman: %s'%df.corr(method='spearman').loc[cols[j]]['Temp'].round(2))\n",
    "    j+=1\n",
    "\n",
    "plt.show()"
   ]
  },
  {
   "cell_type": "code",
   "execution_count": null,
   "metadata": {},
   "outputs": [],
   "source": []
  }
 ],
 "metadata": {
  "kernelspec": {
   "display_name": "Python 3",
   "language": "python",
   "name": "python3"
  },
  "language_info": {
   "codemirror_mode": {
    "name": "ipython",
    "version": 3
   },
   "file_extension": ".py",
   "mimetype": "text/x-python",
   "name": "python",
   "nbconvert_exporter": "python",
   "pygments_lexer": "ipython3",
   "version": "3.7.1"
  }
 },
 "nbformat": 4,
 "nbformat_minor": 2
}
